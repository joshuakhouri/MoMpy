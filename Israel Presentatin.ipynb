{
 "cells": [
  {
   "cell_type": "markdown",
   "id": "489dd8ee",
   "metadata": {},
   "source": [
    "The purpose of this module is to perform high-level data manipulation and uncertainty analysis. "
   ]
  },
  {
   "cell_type": "code",
   "execution_count": 1,
   "id": "95fdeda1",
   "metadata": {},
   "outputs": [],
   "source": [
    "from Uncertainty import *\n",
    "import sympy as sym"
   ]
  },
  {
   "cell_type": "markdown",
   "id": "af32461c",
   "metadata": {},
   "source": [
    "Suppose you need to find the uncertainty in the following equation for the heat transfer coefficient for a heat exchanger, expressed as a function of measured parameters in the lab:\n",
    "\n",
    "$$\n",
    "UA = \\frac{\\frac{[m_h \\times C_{ph} \\times (T_{hi}-T_{ho}) + m_c \\times C_{pc} \\times (T_{co}-T_{ci})]/2}{T_{hi}-T_{ci} - T_{ho} - T_{co}}}{ln\\frac{T_{hi}-T_{ci}}{T_{hi} - T_{ci}}}\n",
    "$$"
   ]
  },
  {
   "cell_type": "code",
   "execution_count": 2,
   "id": "9d5862d6",
   "metadata": {},
   "outputs": [
    {
     "data": {
      "text/latex": [
       "$\\displaystyle \\frac{\\left(c_{pc} m_{c} \\left(- T_{c i} + T_{c o}\\right) + c_{ph} m_{h} \\left(T_{h i} - T_{h o}\\right)\\right) \\log{\\left(\\frac{- T_{c o} + T_{h i}}{- T_{c i} + T_{h o}} \\right)}}{2 T_{c i} - 2 T_{c o} + 2 T_{h i} - 2 T_{h o}}$"
      ],
      "text/plain": [
       "(c_pc*m_c*(-T_c_i + T_c_o) + c_ph*m_h*(T_h_i - T_h_o))*log((-T_c_o + T_h_i)/(-T_c_i + T_h_o))/(2*T_c_i - 2*T_c_o + 2*T_h_i - 2*T_h_o)"
      ]
     },
     "execution_count": 2,
     "metadata": {},
     "output_type": "execute_result"
    }
   ],
   "source": [
    "UA, m_h, c_ph, T_h_i, T_h_o, m_c, c_pc, T_c_i, T_c_o = sym.symbols(\"UA m_h c_ph T_h_i T_h_o m_c c_pc T_c_i T_c_o\")\n",
    "\n",
    "expr1 = (m_h*c_ph*(T_h_i-T_h_o) + m_c*c_pc*(T_c_o - T_c_i))\n",
    "\n",
    "expr2 = (2*(T_h_i-T_c_o-T_h_o+T_c_i))*1/(sym.ln((T_h_i-T_c_o)/(T_h_o-T_c_i)))\n",
    "\n",
    "expr = expr1/expr2\n",
    "\n",
    "expr"
   ]
  },
  {
   "cell_type": "markdown",
   "id": "5113836e",
   "metadata": {},
   "source": [
    "To calculate the propagated error from the individual terms, you can use the RSS method:\n",
    "$$\n",
    "\\sqrt{{\\sum}_{i}^{n} \\left(\\frac{\\partial f_i}{\\partial x_i} U_{x_i} \\right)^2}\n",
    "$$\n",
    "\n",
    "Calculating by hand or hardcoding the uncertainty can be tedious and often leads to mistakes, especially when you have to do this task for multiple expressions of equal complexity. Using the get_RSS() function, it can be calculated in one line of code. "
   ]
  },
  {
   "cell_type": "code",
   "execution_count": 3,
   "id": "fa394be4",
   "metadata": {},
   "outputs": [
    {
     "data": {
      "text/latex": [
       "$\\displaystyle \\sqrt{U_{T c i}^{2} \\left(- \\frac{c_{pc} m_{c} \\log{\\left(\\frac{- T_{c o} + T_{h i}}{- T_{c i} + T_{h o}} \\right)}}{2 T_{c i} - 2 T_{c o} + 2 T_{h i} - 2 T_{h o}} - \\frac{2 \\left(c_{pc} m_{c} \\left(- T_{c i} + T_{c o}\\right) + c_{ph} m_{h} \\left(T_{h i} - T_{h o}\\right)\\right) \\log{\\left(\\frac{- T_{c o} + T_{h i}}{- T_{c i} + T_{h o}} \\right)}}{\\left(2 T_{c i} - 2 T_{c o} + 2 T_{h i} - 2 T_{h o}\\right)^{2}} + \\frac{c_{pc} m_{c} \\left(- T_{c i} + T_{c o}\\right) + c_{ph} m_{h} \\left(T_{h i} - T_{h o}\\right)}{\\left(- T_{c i} + T_{h o}\\right) \\left(2 T_{c i} - 2 T_{c o} + 2 T_{h i} - 2 T_{h o}\\right)}\\right)^{2} + U_{T c o}^{2} \\left(\\frac{c_{pc} m_{c} \\log{\\left(\\frac{- T_{c o} + T_{h i}}{- T_{c i} + T_{h o}} \\right)}}{2 T_{c i} - 2 T_{c o} + 2 T_{h i} - 2 T_{h o}} + \\frac{2 \\left(c_{pc} m_{c} \\left(- T_{c i} + T_{c o}\\right) + c_{ph} m_{h} \\left(T_{h i} - T_{h o}\\right)\\right) \\log{\\left(\\frac{- T_{c o} + T_{h i}}{- T_{c i} + T_{h o}} \\right)}}{\\left(2 T_{c i} - 2 T_{c o} + 2 T_{h i} - 2 T_{h o}\\right)^{2}} - \\frac{c_{pc} m_{c} \\left(- T_{c i} + T_{c o}\\right) + c_{ph} m_{h} \\left(T_{h i} - T_{h o}\\right)}{\\left(- T_{c o} + T_{h i}\\right) \\left(2 T_{c i} - 2 T_{c o} + 2 T_{h i} - 2 T_{h o}\\right)}\\right)^{2} + U_{T h i}^{2} \\left(\\frac{c_{ph} m_{h} \\log{\\left(\\frac{- T_{c o} + T_{h i}}{- T_{c i} + T_{h o}} \\right)}}{2 T_{c i} - 2 T_{c o} + 2 T_{h i} - 2 T_{h o}} - \\frac{2 \\left(c_{pc} m_{c} \\left(- T_{c i} + T_{c o}\\right) + c_{ph} m_{h} \\left(T_{h i} - T_{h o}\\right)\\right) \\log{\\left(\\frac{- T_{c o} + T_{h i}}{- T_{c i} + T_{h o}} \\right)}}{\\left(2 T_{c i} - 2 T_{c o} + 2 T_{h i} - 2 T_{h o}\\right)^{2}} + \\frac{c_{pc} m_{c} \\left(- T_{c i} + T_{c o}\\right) + c_{ph} m_{h} \\left(T_{h i} - T_{h o}\\right)}{\\left(- T_{c o} + T_{h i}\\right) \\left(2 T_{c i} - 2 T_{c o} + 2 T_{h i} - 2 T_{h o}\\right)}\\right)^{2} + U_{T h o}^{2} \\left(- \\frac{c_{ph} m_{h} \\log{\\left(\\frac{- T_{c o} + T_{h i}}{- T_{c i} + T_{h o}} \\right)}}{2 T_{c i} - 2 T_{c o} + 2 T_{h i} - 2 T_{h o}} + \\frac{2 \\left(c_{pc} m_{c} \\left(- T_{c i} + T_{c o}\\right) + c_{ph} m_{h} \\left(T_{h i} - T_{h o}\\right)\\right) \\log{\\left(\\frac{- T_{c o} + T_{h i}}{- T_{c i} + T_{h o}} \\right)}}{\\left(2 T_{c i} - 2 T_{c o} + 2 T_{h i} - 2 T_{h o}\\right)^{2}} - \\frac{c_{pc} m_{c} \\left(- T_{c i} + T_{c o}\\right) + c_{ph} m_{h} \\left(T_{h i} - T_{h o}\\right)}{\\left(- T_{c i} + T_{h o}\\right) \\left(2 T_{c i} - 2 T_{c o} + 2 T_{h i} - 2 T_{h o}\\right)}\\right)^{2} + \\frac{U_{c pc}^{2} m_{c}^{2} \\left(- T_{c i} + T_{c o}\\right)^{2} \\log{\\left(\\frac{- T_{c o} + T_{h i}}{- T_{c i} + T_{h o}} \\right)}^{2}}{\\left(2 T_{c i} - 2 T_{c o} + 2 T_{h i} - 2 T_{h o}\\right)^{2}} + \\frac{U_{c ph}^{2} m_{h}^{2} \\left(T_{h i} - T_{h o}\\right)^{2} \\log{\\left(\\frac{- T_{c o} + T_{h i}}{- T_{c i} + T_{h o}} \\right)}^{2}}{\\left(2 T_{c i} - 2 T_{c o} + 2 T_{h i} - 2 T_{h o}\\right)^{2}} + \\frac{U_{m c}^{2} c_{pc}^{2} \\left(- T_{c i} + T_{c o}\\right)^{2} \\log{\\left(\\frac{- T_{c o} + T_{h i}}{- T_{c i} + T_{h o}} \\right)}^{2}}{\\left(2 T_{c i} - 2 T_{c o} + 2 T_{h i} - 2 T_{h o}\\right)^{2}} + \\frac{U_{m h}^{2} c_{ph}^{2} \\left(T_{h i} - T_{h o}\\right)^{2} \\log{\\left(\\frac{- T_{c o} + T_{h i}}{- T_{c i} + T_{h o}} \\right)}^{2}}{\\left(2 T_{c i} - 2 T_{c o} + 2 T_{h i} - 2 T_{h o}\\right)^{2}}}$"
      ],
      "text/plain": [
       "sqrt(U_T_c_i**2*(-c_pc*m_c*log((-T_c_o + T_h_i)/(-T_c_i + T_h_o))/(2*T_c_i - 2*T_c_o + 2*T_h_i - 2*T_h_o) - 2*(c_pc*m_c*(-T_c_i + T_c_o) + c_ph*m_h*(T_h_i - T_h_o))*log((-T_c_o + T_h_i)/(-T_c_i + T_h_o))/(2*T_c_i - 2*T_c_o + 2*T_h_i - 2*T_h_o)**2 + (c_pc*m_c*(-T_c_i + T_c_o) + c_ph*m_h*(T_h_i - T_h_o))/((-T_c_i + T_h_o)*(2*T_c_i - 2*T_c_o + 2*T_h_i - 2*T_h_o)))**2 + U_T_c_o**2*(c_pc*m_c*log((-T_c_o + T_h_i)/(-T_c_i + T_h_o))/(2*T_c_i - 2*T_c_o + 2*T_h_i - 2*T_h_o) + 2*(c_pc*m_c*(-T_c_i + T_c_o) + c_ph*m_h*(T_h_i - T_h_o))*log((-T_c_o + T_h_i)/(-T_c_i + T_h_o))/(2*T_c_i - 2*T_c_o + 2*T_h_i - 2*T_h_o)**2 - (c_pc*m_c*(-T_c_i + T_c_o) + c_ph*m_h*(T_h_i - T_h_o))/((-T_c_o + T_h_i)*(2*T_c_i - 2*T_c_o + 2*T_h_i - 2*T_h_o)))**2 + U_T_h_i**2*(c_ph*m_h*log((-T_c_o + T_h_i)/(-T_c_i + T_h_o))/(2*T_c_i - 2*T_c_o + 2*T_h_i - 2*T_h_o) - 2*(c_pc*m_c*(-T_c_i + T_c_o) + c_ph*m_h*(T_h_i - T_h_o))*log((-T_c_o + T_h_i)/(-T_c_i + T_h_o))/(2*T_c_i - 2*T_c_o + 2*T_h_i - 2*T_h_o)**2 + (c_pc*m_c*(-T_c_i + T_c_o) + c_ph*m_h*(T_h_i - T_h_o))/((-T_c_o + T_h_i)*(2*T_c_i - 2*T_c_o + 2*T_h_i - 2*T_h_o)))**2 + U_T_h_o**2*(-c_ph*m_h*log((-T_c_o + T_h_i)/(-T_c_i + T_h_o))/(2*T_c_i - 2*T_c_o + 2*T_h_i - 2*T_h_o) + 2*(c_pc*m_c*(-T_c_i + T_c_o) + c_ph*m_h*(T_h_i - T_h_o))*log((-T_c_o + T_h_i)/(-T_c_i + T_h_o))/(2*T_c_i - 2*T_c_o + 2*T_h_i - 2*T_h_o)**2 - (c_pc*m_c*(-T_c_i + T_c_o) + c_ph*m_h*(T_h_i - T_h_o))/((-T_c_i + T_h_o)*(2*T_c_i - 2*T_c_o + 2*T_h_i - 2*T_h_o)))**2 + U_c_pc**2*m_c**2*(-T_c_i + T_c_o)**2*log((-T_c_o + T_h_i)/(-T_c_i + T_h_o))**2/(2*T_c_i - 2*T_c_o + 2*T_h_i - 2*T_h_o)**2 + U_c_ph**2*m_h**2*(T_h_i - T_h_o)**2*log((-T_c_o + T_h_i)/(-T_c_i + T_h_o))**2/(2*T_c_i - 2*T_c_o + 2*T_h_i - 2*T_h_o)**2 + U_m_c**2*c_pc**2*(-T_c_i + T_c_o)**2*log((-T_c_o + T_h_i)/(-T_c_i + T_h_o))**2/(2*T_c_i - 2*T_c_o + 2*T_h_i - 2*T_h_o)**2 + U_m_h**2*c_ph**2*(T_h_i - T_h_o)**2*log((-T_c_o + T_h_i)/(-T_c_i + T_h_o))**2/(2*T_c_i - 2*T_c_o + 2*T_h_i - 2*T_h_o)**2)"
      ]
     },
     "execution_count": 3,
     "metadata": {},
     "output_type": "execute_result"
    }
   ],
   "source": [
    "get_RSS(expr)"
   ]
  },
  {
   "cell_type": "markdown",
   "id": "226952b9",
   "metadata": {},
   "source": [
    "Even more conveniently, you do not need to initialize the variables as sympy objects:"
   ]
  },
  {
   "cell_type": "code",
   "execution_count": 4,
   "id": "8c924d60",
   "metadata": {},
   "outputs": [
    {
     "data": {
      "text/latex": [
       "$\\displaystyle \\sqrt{\\frac{U_{x}^{2}}{y^{4}} + \\frac{4 U_{y}^{2} x^{2}}{y^{6}}}$"
      ],
      "text/plain": [
       "sqrt(U_x**2/y**4 + 4*U_y**2*x**2/y**6)"
      ]
     },
     "execution_count": 4,
     "metadata": {},
     "output_type": "execute_result"
    }
   ],
   "source": [
    "get_RSS(\"x/y^2\")"
   ]
  },
  {
   "cell_type": "markdown",
   "id": "dd77d7de",
   "metadata": {},
   "source": [
    "You are also able to evaluate the RSS by just providing the values for each variable. For the uncertainties, just put $U_$ followed by the variable name. Say we want the uncertainty for the moment of inertia of a pendulum for a charpy impact test."
   ]
  },
  {
   "cell_type": "code",
   "execution_count": 5,
   "id": "c4f53ac0",
   "metadata": {},
   "outputs": [
    {
     "data": {
      "text/plain": [
       "0.00108579697831823"
      ]
     },
     "execution_count": 5,
     "metadata": {},
     "output_type": "execute_result"
    }
   ],
   "source": [
    "get_RSS(\"b*h^3 - (b-2*t)*(h-2*t)^3\", b = .25, h = .5, t = .125, \n",
    "        U_b = .005, U_h = .005, U_t = .001, evaluate = True)\n",
    "#the order you put in the keywords does not matter"
   ]
  },
  {
   "cell_type": "markdown",
   "id": "b1ba9df2",
   "metadata": {},
   "source": [
    "If you are missing a variable value the code helps you identify what is missing, say I forgot the value for $t$:"
   ]
  },
  {
   "cell_type": "code",
   "execution_count": 6,
   "id": "02001320",
   "metadata": {},
   "outputs": [
    {
     "ename": "ValueError",
     "evalue": "Symbol t value MUST be provided",
     "output_type": "error",
     "traceback": [
      "\u001b[1;31m---------------------------------------------------------------------------\u001b[0m",
      "\u001b[1;31mValueError\u001b[0m                                Traceback (most recent call last)",
      "Input \u001b[1;32mIn [6]\u001b[0m, in \u001b[0;36m<cell line: 1>\u001b[1;34m()\u001b[0m\n\u001b[1;32m----> 1\u001b[0m \u001b[43mget_RSS\u001b[49m\u001b[43m(\u001b[49m\u001b[38;5;124;43m\"\u001b[39;49m\u001b[38;5;124;43mb*h^3 - (b-2*t)*(h-2*t)^3\u001b[39;49m\u001b[38;5;124;43m\"\u001b[39;49m\u001b[43m,\u001b[49m\u001b[43m \u001b[49m\u001b[43mb\u001b[49m\u001b[43m \u001b[49m\u001b[38;5;241;43m=\u001b[39;49m\u001b[43m \u001b[49m\u001b[38;5;241;43m.25\u001b[39;49m\u001b[43m,\u001b[49m\u001b[43m \u001b[49m\u001b[43mh\u001b[49m\u001b[43m \u001b[49m\u001b[38;5;241;43m=\u001b[39;49m\u001b[43m \u001b[49m\u001b[38;5;241;43m.5\u001b[39;49m\u001b[43m,\u001b[49m\u001b[43m \u001b[49m\n\u001b[0;32m      2\u001b[0m \u001b[43m        \u001b[49m\u001b[43mU_b\u001b[49m\u001b[43m \u001b[49m\u001b[38;5;241;43m=\u001b[39;49m\u001b[43m \u001b[49m\u001b[38;5;241;43m.005\u001b[39;49m\u001b[43m,\u001b[49m\u001b[43m \u001b[49m\u001b[43mU_h\u001b[49m\u001b[43m \u001b[49m\u001b[38;5;241;43m=\u001b[39;49m\u001b[43m \u001b[49m\u001b[38;5;241;43m.005\u001b[39;49m\u001b[43m,\u001b[49m\u001b[43m \u001b[49m\u001b[43mU_t\u001b[49m\u001b[43m \u001b[49m\u001b[38;5;241;43m=\u001b[39;49m\u001b[43m \u001b[49m\u001b[38;5;241;43m.001\u001b[39;49m\u001b[43m,\u001b[49m\u001b[43m \u001b[49m\u001b[43mevaluate\u001b[49m\u001b[43m \u001b[49m\u001b[38;5;241;43m=\u001b[39;49m\u001b[43m \u001b[49m\u001b[38;5;28;43;01mTrue\u001b[39;49;00m\u001b[43m)\u001b[49m\n",
      "File \u001b[1;32m~\\Desktop\\school folders\\Fall22\\Python\\Project\\Uncertainty.py:60\u001b[0m, in \u001b[0;36mget_RSS\u001b[1;34m(expr, evaluate, unicode, excel, **kwargs)\u001b[0m\n\u001b[0;32m     57\u001b[0m U_symbol[i] \u001b[38;5;241m=\u001b[39m sym\u001b[38;5;241m.\u001b[39msymbols(U_symbol[i]) \u001b[38;5;66;03m#symbolizes the previous line\u001b[39;00m\n\u001b[0;32m     59\u001b[0m \u001b[38;5;28;01mif\u001b[39;00m evaluate \u001b[38;5;129;01mand\u001b[39;00m \u001b[38;5;28mstr\u001b[39m(symbol) \u001b[38;5;129;01mnot\u001b[39;00m \u001b[38;5;129;01min\u001b[39;00m kwargs: \u001b[38;5;66;03m#checks if there is any missing value provided in kwargs\u001b[39;00m\n\u001b[1;32m---> 60\u001b[0m     \u001b[38;5;28;01mraise\u001b[39;00m \u001b[38;5;167;01mValueError\u001b[39;00m(\u001b[38;5;124mf\u001b[39m\u001b[38;5;124m\"\u001b[39m\u001b[38;5;124mSymbol \u001b[39m\u001b[38;5;132;01m{\u001b[39;00msymbol\u001b[38;5;132;01m}\u001b[39;00m\u001b[38;5;124m value MUST be provided\u001b[39m\u001b[38;5;124m\"\u001b[39m)\n\u001b[0;32m     61\u001b[0m \u001b[38;5;28;01melif\u001b[39;00m evaluate \u001b[38;5;129;01mand\u001b[39;00m \u001b[38;5;28mstr\u001b[39m(U_symbol[i]) \u001b[38;5;129;01mnot\u001b[39;00m \u001b[38;5;129;01min\u001b[39;00m kwargs:\n\u001b[0;32m     62\u001b[0m     \u001b[38;5;28;01mraise\u001b[39;00m \u001b[38;5;167;01mValueError\u001b[39;00m(\u001b[38;5;124mf\u001b[39m\u001b[38;5;124m\"\u001b[39m\u001b[38;5;124mUncertainty \u001b[39m\u001b[38;5;132;01m{\u001b[39;00mU_symbol[i]\u001b[38;5;132;01m}\u001b[39;00m\u001b[38;5;124m value MUST be provided.\u001b[39m\u001b[38;5;124m\"\u001b[39m)\n",
      "\u001b[1;31mValueError\u001b[0m: Symbol t value MUST be provided"
     ]
    }
   ],
   "source": [
    "get_RSS(\"b*h^3 - (b-2*t)*(h-2*t)^3\", b = .25, h = .5, \n",
    "        U_b = .005, U_h = .005, U_t = .001, evaluate = True)"
   ]
  },
  {
   "cell_type": "markdown",
   "id": "33d5c1a5",
   "metadata": {},
   "source": [
    "Lastly, if you are working in Microsoft Excel and want to put the function directly into Excel, you can use the boolean excel = True (Just a minor convenience, really)."
   ]
  },
  {
   "cell_type": "code",
   "execution_count": 7,
   "id": "9c70e71e",
   "metadata": {},
   "outputs": [
    {
     "data": {
      "text/plain": [
       "'sqrt(U_b^2*(h^3 - (h - 2*t)^3)^2 + U_h^2*(3*b*h^2 - 3*(b - 2*t)*(h - 2*t)^2)^2 + U_t^2*(6*(b - 2*t)*(h - 2*t)^2 + 2*(h - 2*t)^3)^2)'"
      ]
     },
     "execution_count": 7,
     "metadata": {},
     "output_type": "execute_result"
    }
   ],
   "source": [
    "get_RSS(\"b*h^3 - (b-2*t)*(h-2*t)^3\", b = .25, h = .5, \n",
    "        U_b = .005, U_h = .005, U_t = .001, excel = True)"
   ]
  },
  {
   "cell_type": "markdown",
   "id": "2ad88c37",
   "metadata": {},
   "source": [
    "Another way to calculate propagated error is to use a Monte Carlo simulation, the function MonteCarlo() takes in keyword arguments similar to get_RSS():"
   ]
  },
  {
   "cell_type": "code",
   "execution_count": 8,
   "id": "a591fad1",
   "metadata": {
    "scrolled": true
   },
   "outputs": [
    {
     "name": "stdout",
     "output_type": "stream",
     "text": [
      "0.03125 +/- 0.001058668858564157\n"
     ]
    }
   ],
   "source": [
    "MonteCarlo(\"b*h^3 - (b-2*t)*(h-2*t)^3\", b = .25, h = .5, \n",
    "        U_b = .005, U_h = .005, U_t = .001, t = .125)"
   ]
  },
  {
   "cell_type": "markdown",
   "id": "b9947916",
   "metadata": {},
   "source": [
    "As you can see you get a similar value for uncertainty. The default number of simulations is $10,000$ but you can adjust it with the argument N = number of simulations. The code returns 2 standard deviations. \n",
    "\n",
    "Another function exists to get the uncertainty for numerical integration and calculating slope, which is convenient if you want to find the work done on a specimen $W$ in a charpy impact test or find the uncertainty in the modulus of elasticity $E$. "
   ]
  },
  {
   "cell_type": "code",
   "execution_count": 4,
   "id": "fd3ed74c",
   "metadata": {},
   "outputs": [
    {
     "data": {
      "text/plain": [
       "(2.6000000000000005, 1.3353981112406787e-15)"
      ]
     },
     "execution_count": 4,
     "metadata": {},
     "output_type": "execute_result"
    }
   ],
   "source": [
    "x = [1,2,3,4]\n",
    "U_x = [1, 1,1, 1]\n",
    "\n",
    "y = [2,4,6,10]\n",
    "U_y = [1, 1, 1, 1]\n",
    "\n",
    "a = getMonteCarlo(x, y, U_x, U_y, slope = True)\n",
    "\n",
    "a"
   ]
  },
  {
   "cell_type": "code",
   "execution_count": 10,
   "id": "6ec2645f",
   "metadata": {},
   "outputs": [
    {
     "data": {
      "text/plain": [
       "(1.999881300567056, 0.005557350636297385)"
      ]
     },
     "execution_count": 10,
     "metadata": {},
     "output_type": "execute_result"
    }
   ],
   "source": [
    "x = [0,2,3,4,5]\n",
    "U_x = [.18, .19, .21, .17, .17,]\n",
    "\n",
    "y = [0,4,6,8,10]\n",
    "U_y = [.21, .25, .24, .23, .23]\n",
    "\n",
    "a = getMonteCarlo(x, y, U_x, U_y, slope = True)\n",
    "\n",
    "a"
   ]
  },
  {
   "cell_type": "markdown",
   "id": "f3ed4fcb",
   "metadata": {},
   "source": [
    "These uncertainty calculators were created to be convenient and high-level on their own, but they are also used inside other functions for analyzing UTM data. The function determines on its own which column is load and which is from the extensometer. Output of $E$ is in $GPa$, other stresses are in $MPa$. "
   ]
  },
  {
   "cell_type": "code",
   "execution_count": 11,
   "id": "9ba338bc",
   "metadata": {},
   "outputs": [
    {
     "name": "stdout",
     "output_type": "stream",
     "text": [
      "The modulus of elasticity is 185.21 +/- 1.265 GPa\n"
     ]
    }
   ],
   "source": [
    "values = getStressStrain(\"Specimen_RawData_1.csv\", area = 41.93, mass = 67.01, volume = 8.824, MC_sim = True)\n",
    "\n",
    "print(f\"The modulus of elasticity is {values[2]:.2f} +/- {values[3]:.3f} GPa\")"
   ]
  },
  {
   "cell_type": "code",
   "execution_count": null,
   "id": "da8b1099",
   "metadata": {},
   "outputs": [],
   "source": []
  }
 ],
 "metadata": {
  "kernelspec": {
   "display_name": "Python 3 (ipykernel)",
   "language": "python",
   "name": "python3"
  },
  "language_info": {
   "codemirror_mode": {
    "name": "ipython",
    "version": 3
   },
   "file_extension": ".py",
   "mimetype": "text/x-python",
   "name": "python",
   "nbconvert_exporter": "python",
   "pygments_lexer": "ipython3",
   "version": "3.9.12"
  }
 },
 "nbformat": 4,
 "nbformat_minor": 5
}
